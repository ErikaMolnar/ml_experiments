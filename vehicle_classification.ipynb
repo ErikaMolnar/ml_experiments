{
 "cells": [
  {
   "cell_type": "markdown",
   "metadata": {},
   "source": [
    "# Machine Learning Project: Fine-Tuning and Optimization Techniques Exploration\n",
    "\n",
    "## Project Overview\n",
    "\n",
    "In this machine learning project, I delved into the intricacies of model fine-tuning and tested various optimization techniques to enhance model performance. The primary goal was to investigate how different tuning and optimization strategies impact the accuracy and efficiency of machine learning models.\n",
    "\n",
    "## Objectives\n",
    "\n",
    "- To understand the effects of fine-tuning on model performance.\n",
    "- To evaluate and compare different optimization techniques.\n",
    "- To identify the best practices and approaches for optimizing machine learning models.\n",
    "\n",
    "## Dataset Description\n",
    "\n",
    "The dataset used in this project: https://www.kaggle.com/datasets/mrtontrnok/5-vehichles-for-multicategory-classification/data\n",
    "\n",
    "## Methodology\n",
    "\n",
    "### Fine-Tuning\n",
    "\n",
    "- The fine-tuning process involved unfreezing the last [n] layers of a pre-trained VGG16 model and adjusting the learning rate to a smaller value to avoid overfitting.\n",
    "- Hyperparameters like learning rate, batch size, and number of epochs were meticulously tuned to find the optimal settings.\n",
    "\n",
    "### Optimization Techniques\n",
    "\n",
    "- Explored various optimization methods such as SGD, Adam, and RMSprop to understand their impact on the model's convergence and accuracy.\n",
    "- Implemented techniques like learning rate scheduling and early stopping to improve training efficiency and prevent overfitting.\n",
    "\n",
    "## Results\n",
    "\n",
    "Despite the initial high loss values, the project demonstrated meaningful progress over the training epochs, illustrating valuable lessons in model optimization and fine-tuning:\n",
    "\n",
    "- **Learning and Improvement**: Across the 10 epochs, the model showed a consistent improvement in both training and validation accuracy, with the final training accuracy reaching 95.12% and validation accuracy at 86.79%. These results highlight the model's capacity to learn and adapt effectively over time, even from a suboptimal starting point.\n",
    "\n",
    "- **Loss Reduction**: The loss reduction trajectory, from 3.6122 to 1.7780 on the training set and from 2.9228 to 2.0680 on the validation set, underscores the effectiveness of the iterative optimization process. This progression is indicative of the model gradually honing its predictive accuracy.\n",
    "\n",
    "- **Validation Performance**: While the validation accuracy did not surpass the training accuracy significantly, it maintained a robust level above 80% throughout the training process, suggesting a reasonable generalization to unseen data.\n",
    "\n",
    "- **Insights and Opportunities**: These outcomes provide insightful data points for understanding how different optimization techniques and hyperparameters affect learning dynamics. The project serves as a practical exercise in navigating the challenges of model fine-tuning and underscores the importance of iterative experimentation.\n",
    "\n",
    "## Reflective Conclusion\n",
    "\n",
    "The progression observed during this project, despite its modest beginnings, exemplifies the essence of machine learning experimentation. Each epoch brought valuable insights, underscoring the importance of persistence and iterative refinement in the face of challenging starting metrics. The project stands as a testament to the educational value of the machine learning journey, emphasizing learning and growth over perfection. Future projects will benefit immensely from these gleaned insights, paving the way for more refined experimentation and optimization strategies.\n"
   ]
  },
  {
   "cell_type": "code",
   "execution_count": 1,
   "metadata": {},
   "outputs": [],
   "source": [
    "import tensorflow as tf\n",
    "import numpy as np\n",
    "import matplotlib.pyplot as plt"
   ]
  },
  {
   "cell_type": "code",
   "execution_count": 2,
   "metadata": {},
   "outputs": [],
   "source": [
    "from tensorflow.keras.models import Model, Sequential\n",
    "from tensorflow.keras.optimizers import SGD, Adam\n",
    "from tensorflow.keras.applications.vgg16 import VGG16\n",
    "from tensorflow.keras.preprocessing.image import ImageDataGenerator\n",
    "from tensorflow.keras.layers import Input, Dense, Flatten, Conv2D, Dropout\n",
    "from tensorflow.keras.regularizers import l2"
   ]
  },
  {
   "cell_type": "code",
   "execution_count": 3,
   "metadata": {},
   "outputs": [],
   "source": [
    "# Path to dataset\n",
    "train_data_dir = 'dataset/train'\n",
    "validation_data_dir = 'dataset/validation'\n",
    "test_data_dir = 'dataset/test'"
   ]
  },
  {
   "cell_type": "code",
   "execution_count": 4,
   "metadata": {},
   "outputs": [],
   "source": [
    "# Img size\n",
    "img_height = 224\n",
    "img_width = 224\n",
    "\n",
    "# Batch size\n",
    "batch_size = 32"
   ]
  },
  {
   "cell_type": "code",
   "execution_count": 5,
   "metadata": {},
   "outputs": [],
   "source": [
    "# Use ImageDataGenerator to load and augment the data\n",
    "train_datagen = ImageDataGenerator(rescale=1./255)\n",
    "validation_datagen = ImageDataGenerator(rescale=1./255)\n",
    "test_datagen = ImageDataGenerator(rescale=1./255)"
   ]
  },
  {
   "cell_type": "code",
   "execution_count": 6,
   "metadata": {},
   "outputs": [
    {
     "name": "stdout",
     "output_type": "stream",
     "text": [
      "Found 5418 images belonging to 5 classes.\n",
      "Found 709 images belonging to 5 classes.\n",
      "Found 708 images belonging to 5 classes.\n"
     ]
    }
   ],
   "source": [
    "# Create data generators for training\n",
    "train_generator = train_datagen.flow_from_directory(\n",
    "    train_data_dir,\n",
    "    target_size=(img_width, img_height),\n",
    "    batch_size=batch_size,\n",
    "    class_mode='categorical'\n",
    ")\n",
    "\n",
    "# Create data generators for validation\n",
    "validation_generator = validation_datagen.flow_from_directory(\n",
    "    validation_data_dir,\n",
    "    target_size=(img_width, img_height),\n",
    "    batch_size=batch_size,\n",
    "    class_mode='categorical'\n",
    ")\n",
    "\n",
    "# Create data generators for testing\n",
    "test_generator = test_datagen.flow_from_directory(\n",
    "    test_data_dir,\n",
    "    target_size=(img_width, img_height),\n",
    "    batch_size=batch_size,\n",
    "    class_mode='categorical'\n",
    ")"
   ]
  },
  {
   "cell_type": "code",
   "execution_count": 7,
   "metadata": {},
   "outputs": [
    {
     "data": {
      "text/plain": [
       "{'bus': 0, 'car': 1, 'motorcycle': 2, 'train': 3, 'truck': 4}"
      ]
     },
     "execution_count": 7,
     "metadata": {},
     "output_type": "execute_result"
    }
   ],
   "source": [
    "train_generator.class_indices"
   ]
  },
  {
   "cell_type": "code",
   "execution_count": 8,
   "metadata": {},
   "outputs": [
    {
     "name": "stderr",
     "output_type": "stream",
     "text": [
      "2024-03-20 19:42:56.410726: I metal_plugin/src/device/metal_device.cc:1154] Metal device set to: Apple M2 Max\n",
      "2024-03-20 19:42:56.410751: I metal_plugin/src/device/metal_device.cc:296] systemMemory: 32.00 GB\n",
      "2024-03-20 19:42:56.410757: I metal_plugin/src/device/metal_device.cc:313] maxCacheSize: 10.67 GB\n",
      "2024-03-20 19:42:56.410790: I tensorflow/core/common_runtime/pluggable_device/pluggable_device_factory.cc:306] Could not identify NUMA node of platform GPU ID 0, defaulting to 0. Your kernel may not have been built with NUMA support.\n",
      "2024-03-20 19:42:56.410804: I tensorflow/core/common_runtime/pluggable_device/pluggable_device_factory.cc:272] Created TensorFlow device (/job:localhost/replica:0/task:0/device:GPU:0 with 0 MB memory) -> physical PluggableDevice (device: 0, name: METAL, pci bus id: <undefined>)\n"
     ]
    }
   ],
   "source": [
    "# Initialize the VGG16 model\n",
    "vgg16_model = VGG16(weights='imagenet', include_top=False, input_shape=(img_width, img_height, 3))\n"
   ]
  },
  {
   "cell_type": "code",
   "execution_count": 9,
   "metadata": {},
   "outputs": [],
   "source": [
    "for layer in vgg16_model.layers[:-4]:\n",
    "    # print(layer)\n",
    "    layer.trainable = False"
   ]
  },
  {
   "cell_type": "code",
   "execution_count": 10,
   "metadata": {},
   "outputs": [],
   "source": [
    "# Create a new model on top of the pre-trained base model\n",
    "model = Sequential()\n",
    "model.add(vgg16_model)\n",
    "model.add(Flatten())\n",
    "model.add(Dense(128, activation='relu', kernel_regularizer=l2(0.01)))\n",
    "model.add(Dropout(0.5))\n",
    "model.add(Dense(5, activation='softmax'))  "
   ]
  },
  {
   "cell_type": "code",
   "execution_count": 11,
   "metadata": {},
   "outputs": [
    {
     "name": "stdout",
     "output_type": "stream",
     "text": [
      "Model: \"sequential\"\n",
      "_________________________________________________________________\n",
      " Layer (type)                Output Shape              Param #   \n",
      "=================================================================\n",
      " vgg16 (Functional)          (None, 7, 7, 512)         14714688  \n",
      "                                                                 \n",
      " flatten (Flatten)           (None, 25088)             0         \n",
      "                                                                 \n",
      " dense (Dense)               (None, 128)               3211392   \n",
      "                                                                 \n",
      " dropout (Dropout)           (None, 128)               0         \n",
      "                                                                 \n",
      " dense_1 (Dense)             (None, 5)                 645       \n",
      "                                                                 \n",
      "=================================================================\n",
      "Total params: 17926725 (68.39 MB)\n",
      "Trainable params: 10291461 (39.26 MB)\n",
      "Non-trainable params: 7635264 (29.13 MB)\n",
      "_________________________________________________________________\n"
     ]
    }
   ],
   "source": [
    "model.summary()"
   ]
  },
  {
   "cell_type": "code",
   "execution_count": 12,
   "metadata": {},
   "outputs": [],
   "source": [
    "# Compile the model\n",
    "model.compile(optimizer=tf.keras.optimizers.legacy.Adam(learning_rate=1e-5),\n",
    "              loss='categorical_crossentropy',\n",
    "              metrics=['accuracy'])"
   ]
  },
  {
   "cell_type": "code",
   "execution_count": 13,
   "metadata": {},
   "outputs": [
    {
     "name": "stdout",
     "output_type": "stream",
     "text": [
      "Epoch 1/10\n"
     ]
    },
    {
     "name": "stderr",
     "output_type": "stream",
     "text": [
      "2024-03-20 19:42:57.198789: I tensorflow/core/grappler/optimizers/custom_graph_optimizer_registry.cc:117] Plugin optimizer for device_type GPU is enabled.\n"
     ]
    },
    {
     "name": "stdout",
     "output_type": "stream",
     "text": [
      "169/169 [==============================] - 26s 151ms/step - loss: 3.6122 - accuracy: 0.5622 - val_loss: 2.9228 - val_accuracy: 0.7983\n",
      "Epoch 2/10\n",
      "169/169 [==============================] - 28s 164ms/step - loss: 2.9097 - accuracy: 0.7740 - val_loss: 2.6618 - val_accuracy: 0.8466\n",
      "Epoch 3/10\n",
      "169/169 [==============================] - 28s 163ms/step - loss: 2.6418 - accuracy: 0.8312 - val_loss: 2.5329 - val_accuracy: 0.8523\n",
      "Epoch 4/10\n",
      "169/169 [==============================] - 28s 163ms/step - loss: 2.4807 - accuracy: 0.8504 - val_loss: 2.5182 - val_accuracy: 0.8324\n",
      "Epoch 5/10\n",
      "169/169 [==============================] - 28s 163ms/step - loss: 2.2941 - accuracy: 0.8754 - val_loss: 2.3246 - val_accuracy: 0.8565\n",
      "Epoch 6/10\n",
      "169/169 [==============================] - 27s 162ms/step - loss: 2.1785 - accuracy: 0.8951 - val_loss: 2.2750 - val_accuracy: 0.8551\n",
      "Epoch 7/10\n",
      "169/169 [==============================] - 29s 173ms/step - loss: 2.0543 - accuracy: 0.9157 - val_loss: 2.1819 - val_accuracy: 0.8622\n",
      "Epoch 8/10\n",
      "169/169 [==============================] - 30s 176ms/step - loss: 1.9523 - accuracy: 0.9246 - val_loss: 2.1630 - val_accuracy: 0.8636\n",
      "Epoch 9/10\n",
      "169/169 [==============================] - 29s 172ms/step - loss: 1.8619 - accuracy: 0.9376 - val_loss: 2.1011 - val_accuracy: 0.8707\n",
      "Epoch 10/10\n",
      "169/169 [==============================] - 29s 170ms/step - loss: 1.7780 - accuracy: 0.9512 - val_loss: 2.0680 - val_accuracy: 0.8679\n"
     ]
    }
   ],
   "source": [
    "# Train the model\n",
    "history = model.fit(\n",
    "    train_generator,\n",
    "    steps_per_epoch=train_generator.samples // batch_size,\n",
    "    epochs=10,\n",
    "    validation_data=validation_generator,\n",
    "    validation_steps=validation_generator.samples // batch_size\n",
    ")"
   ]
  },
  {
   "cell_type": "code",
   "execution_count": 14,
   "metadata": {},
   "outputs": [
    {
     "name": "stdout",
     "output_type": "stream",
     "text": [
      "23/23 [==============================] - 3s 117ms/step - loss: 2.0650 - accuracy: 0.8688\n"
     ]
    },
    {
     "data": {
      "image/png": "[encoded data removed]",
      "text/plain": [
       "<Figure size 640x480 with 1 Axes>"
      ]
     },
     "metadata": {},
     "output_type": "display_data"
    }
   ],
   "source": [
    "test_loss, test_acc = model.evaluate(validation_generator)\n",
    "\n",
    "plt.plot(history.history['accuracy'])\n",
    "plt.plot(history.history['val_accuracy'])\n",
    "plt.title('Model Accuracy')\n",
    "plt.xlabel('Epoch')\n",
    "plt.ylabel('Accuracy')\n",
    "plt.legend(['Train', 'Validation'])\n",
    "plt.show()"
   ]
  },
  {
   "cell_type": "code",
   "execution_count": 20,
   "metadata": {},
   "outputs": [
    {
     "name": "stdout",
     "output_type": "stream",
     "text": [
      "23/23 [==============================] - 4s 158ms/step\n"
     ]
    }
   ],
   "source": [
    "predictions = model.predict(test_generator)"
   ]
  },
  {
   "cell_type": "code",
   "execution_count": 22,
   "metadata": {},
   "outputs": [
    {
     "name": "stdout",
     "output_type": "stream",
     "text": [
      "708\n"
     ]
    }
   ],
   "source": [
    "class_names = [class_label for class_label in test_generator.class_indices]\n",
    "y_t = test_generator.classes\n",
    "print(len(y_t))\n"
   ]
  },
  {
   "cell_type": "code",
   "execution_count": 23,
   "metadata": {},
   "outputs": [],
   "source": [
    "#y_p = np.argmax(predictions, axis=1)\n",
    "y_p = []\n",
    "for item in predictions:\n",
    "    y_p.append(np.argmax(item))"
   ]
  },
  {
   "cell_type": "code",
   "execution_count": 24,
   "metadata": {},
   "outputs": [
    {
     "name": "stdout",
     "output_type": "stream",
     "text": [
      "report:\n",
      "               precision    recall  f1-score   support\n",
      "\n",
      "           0       0.31      0.28      0.29       180\n",
      "           1       0.11      0.10      0.11       107\n",
      "           2       0.18      0.18      0.18       139\n",
      "           3       0.26      0.26      0.26       182\n",
      "           4       0.18      0.23      0.20       100\n",
      "\n",
      "    accuracy                           0.22       708\n",
      "   macro avg       0.21      0.21      0.21       708\n",
      "weighted avg       0.22      0.22      0.22       708\n",
      "\n"
     ]
    },
    {
     "data": {
      "image/png": "[encoded data removed]",
      "text/plain": [
       "<Figure size 640x480 with 1 Axes>"
      ]
     },
     "metadata": {},
     "output_type": "display_data"
    },
    {
     "name": "stdout",
     "output_type": "stream",
     "text": [
      "(708,)\n",
      "(708,)\n"
     ]
    }
   ],
   "source": [
    "from sklearn import metrics\n",
    "from sklearn.metrics import classification_report\n",
    "\n",
    "#import seaborn as sb\n",
    "def plot_cfm(y_true, y_predicted, labels=[0,1,2,3,4], title=''):\n",
    "    cfm = metrics.confusion_matrix(y_true,y_predicted,labels=labels)\n",
    "    print(\"report:\\n\",classification_report(y_true, y_predicted, labels=labels,zero_division=1))\n",
    "    # sb.heatmap(cfm, annot=True,fmt='', cmap='Blues')\n",
    "    plt.ylabel('True label')\n",
    "    plt.xlabel('Predicted label')\n",
    "    plt.title(title)\n",
    "    plt.show()\n",
    " \n",
    " \n",
    "\n",
    "plot_cfm(y_t, y_p, [0,1,2,3,4],\"cars detection\")\n",
    "print(np.shape(y_p))\n",
    "print(np.shape(y_t))"
   ]
  }
 ],
 "metadata": {
  "kernelspec": {
   "display_name": "ml_hw",
   "language": "python",
   "name": "python3"
  },
  "language_info": {
   "codemirror_mode": {
    "name": "ipython",
    "version": 3
   },
   "file_extension": ".py",
   "mimetype": "text/x-python",
   "name": "python",
   "nbconvert_exporter": "python",
   "pygments_lexer": "ipython3",
   "version": "3.9.18"
  }
 },
 "nbformat": 4,
 "nbformat_minor": 2
}
